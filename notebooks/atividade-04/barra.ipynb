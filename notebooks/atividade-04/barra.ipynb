{
 "cells": [
  {
   "cell_type": "markdown",
   "id": "27a17086-78cf-4b57-b161-73faed99deef",
   "metadata": {
    "tags": []
   },
   "source": [
    "# Gráfico de Barras\n",
    "## Carregar bibliotecas"
   ]
  },
  {
   "cell_type": "code",
   "execution_count": null,
   "id": "acd7e6a3-d008-4f03-9cbc-962c33e5bd25",
   "metadata": {},
   "outputs": [],
   "source": [
    "from matplotlib import pyplot as plt\n",
    "import seaborn as sns\n",
    "import pandas as pd"
   ]
  },
  {
   "cell_type": "markdown",
   "id": "80237390-a110-46b1-ad7d-f8d7f2e0385f",
   "metadata": {
    "tags": []
   },
   "source": [
    "## Leitura do conjunto de dados\n"
   ]
  },
  {
   "cell_type": "code",
   "execution_count": 4,
   "id": "f205cc4f-147c-440c-8852-bb8370fb5678",
   "metadata": {},
   "outputs": [
    {
     "data": {
      "text/html": [
       "<div>\n",
       "<style scoped>\n",
       "    .dataframe tbody tr th:only-of-type {\n",
       "        vertical-align: middle;\n",
       "    }\n",
       "\n",
       "    .dataframe tbody tr th {\n",
       "        vertical-align: top;\n",
       "    }\n",
       "\n",
       "    .dataframe thead th {\n",
       "        text-align: right;\n",
       "    }\n",
       "</style>\n",
       "<table border=\"1\" class=\"dataframe\">\n",
       "  <thead>\n",
       "    <tr style=\"text-align: right;\">\n",
       "      <th></th>\n",
       "      <th>arrecadacao</th>\n",
       "      <th>titulo</th>\n",
       "    </tr>\n",
       "  </thead>\n",
       "  <tbody>\n",
       "    <tr>\n",
       "      <th>0</th>\n",
       "      <td>7316746</td>\n",
       "      <td>Ferdinand</td>\n",
       "    </tr>\n",
       "    <tr>\n",
       "      <th>1</th>\n",
       "      <td>36169328</td>\n",
       "      <td>Jumanji: Welcome to the Jungle</td>\n",
       "    </tr>\n",
       "    <tr>\n",
       "      <th>2</th>\n",
       "      <td>19928525</td>\n",
       "      <td>Pitch Perfect 3</td>\n",
       "    </tr>\n",
       "    <tr>\n",
       "      <th>3</th>\n",
       "      <td>71565498</td>\n",
       "      <td>Star Wars: The Last Jedi</td>\n",
       "    </tr>\n",
       "    <tr>\n",
       "      <th>4</th>\n",
       "      <td>8805843</td>\n",
       "      <td>The Greatest Showman</td>\n",
       "    </tr>\n",
       "  </tbody>\n",
       "</table>\n",
       "</div>"
      ],
      "text/plain": [
       "   arrecadacao                          titulo\n",
       "0      7316746                       Ferdinand\n",
       "1     36169328  Jumanji: Welcome to the Jungle\n",
       "2     19928525                 Pitch Perfect 3\n",
       "3     71565498        Star Wars: The Last Jedi\n",
       "4      8805843            The Greatest Showman"
      ]
     },
     "execution_count": 4,
     "metadata": {},
     "output_type": "execute_result"
    }
   ],
   "source": [
    "df = pd.read_csv('https://gist.githubusercontent.com/omadson/770934cb0df9e2d2c3e8db031f1139a5/raw/4d181efc035b327d9d66256915951384517c603e/arrecadacao.csv')\n",
    "df.head()\n"
   ]
  },
  {
   "cell_type": "markdown",
   "id": "260b2ec4-50b5-4e8b-9baa-f8668b177158",
   "metadata": {
    "tags": []
   },
   "source": [
    "## Criação do gráfico"
   ]
  },
  {
   "cell_type": "code",
   "execution_count": 11,
   "id": "4e79a423-b214-4b85-b233-7e832e4dfb14",
   "metadata": {
    "tags": []
   },
   "outputs": [
    {
     "data": {
      "image/png": "[encoded data removed]",
      "text/plain": [
       "<Figure size 360x144 with 1 Axes>"
      ]
     },
     "metadata": {},
     "output_type": "display_data"
    }
   ],
   "source": [
    "# UTILIZE VALORES SIMPLES\n",
    "df = df.assign(arrecadacao_milhao = df.arrecadacao / 1000000)\n",
    "df = df.sort_values(by='arrecadacao', ascending=False)\n",
    "# ORDENE AS BARRAS\n",
    "sns.set_style(\"whitegrid\")\n",
    "# UTILIZE LINHAS VERTICAIS\n",
    "plt.figure(figsize=(5, 2))\n",
    "# UTILIZE UMA MESMA COR PARA AS BARRAS E UTILIZE BARRAS HORIZONTAIS\n",
    "ax = sns.barplot(data=df, x='arrecadacao_milhao', y='titulo', color='tomato')\n",
    "# ADICIONE VALORES NAS BARRAS\n",
    "ax.bar_label(\n",
    "    ax.containers[0],\n",
    "    fmt='%.1f',\n",
    "    label_type='center',\n",
    "    color='white'\n",
    ")\n",
    "# MELHORE O TITULO E OS LABELS DOS EIXOS\n",
    "plt.xlabel('Arrecadação (Milhões de dólares)')\n",
    "plt.ylabel('Filme')\n",
    "plt.title('Arrecadação de filmes')\n",
    "# Adicione uma linha vertical na origem e remova as bordas:\n",
    "ax.set(frame_on=False)\n",
    "ax.axvline(0, color=\"r\", clip_on=False)\n",
    "plt.show()\n"
   ]
  }
 ],
 "metadata": {
  "kernelspec": {
   "display_name": "Python 3 (ipykernel)",
   "language": "python",
   "name": "python3"
  },
  "language_info": {
   "codemirror_mode": {
    "name": "ipython",
    "version": 3
   },
   "file_extension": ".py",
   "mimetype": "text/x-python",
   "name": "python",
   "nbconvert_exporter": "python",
   "pygments_lexer": "ipython3",
   "version": "3.8.10"
  }
 },
 "nbformat": 4,
 "nbformat_minor": 5
}
